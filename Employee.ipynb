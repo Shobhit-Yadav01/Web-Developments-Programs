{
  "nbformat": 4,
  "nbformat_minor": 0,
  "metadata": {
    "colab": {
      "provenance": [],
      "toc_visible": true,
      "authorship_tag": "ABX9TyNQfWH6n36GY3JhOpB/OqSC",
      "include_colab_link": true
    },
    "kernelspec": {
      "name": "python3",
      "display_name": "Python 3"
    },
    "language_info": {
      "name": "python"
    }
  },
  "cells": [
    {
      "cell_type": "markdown",
      "metadata": {
        "id": "view-in-github",
        "colab_type": "text"
      },
      "source": [
        "<a href=\"https://colab.research.google.com/github/Shobhit-Yadav01/Web-Developments-Programs/blob/main/Employee.ipynb\" target=\"_parent\"><img src=\"https://colab.research.google.com/assets/colab-badge.svg\" alt=\"Open In Colab\"/></a>"
      ]
    },
    {
      "cell_type": "markdown",
      "source": [
        "Q1. Write a python program with a class employee that each track of a numberof employee in an organization and also store their name, designation and salary details."
      ],
      "metadata": {
        "id": "APbWvtfUXYU_"
      }
    },
    {
      "cell_type": "code",
      "execution_count": null,
      "metadata": {
        "id": "qlcYJUO3T-66"
      },
      "outputs": [],
      "source": [
        "\"\"\"Write a python program with a class employee that each track of a numberof employee in an organization and also store their name, designation and salary details.\"\"\""
      ]
    },
    {
      "cell_type": "code",
      "source": [
        "\n",
        "class employee:\n",
        "  def __init__(self,name,designation,salary):\n",
        "    self.name=name\n",
        "    self.designation=designation\n",
        "    self.salary=salary\n",
        "  def print_employee(self):\n",
        "    print(\"Name : \",self.name)\n",
        "    print(\"Designation : \",self.designation)\n",
        "    print(\"Salary : \",self.salary)\n",
        "\n",
        "employee_list=[]\n",
        "n=int(input(\"Enter the number of employee : \"))\n",
        "for i in range(n):\n",
        "  name=input(\"Enter the name of employee : \")\n",
        "  designation=input(\"Enter the designation of employee : \")\n",
        "  salary=int(input(\"Enter the salary of employee : \"))\n",
        "  employee_list.append(employee(name,designation,salary))\n",
        "\n",
        "for employee in employee_list:\n",
        "  employee.print_employee()\n"
      ],
      "metadata": {
        "colab": {
          "base_uri": "https://localhost:8080/"
        },
        "id": "srE0S7x7UBZV",
        "outputId": "d722c09e-d72f-4443-b2c6-bf42f99388d7"
      },
      "execution_count": null,
      "outputs": [
        {
          "output_type": "stream",
          "name": "stdout",
          "text": [
            "Enter the number of employee : 3\n",
            "Enter the name of employee : Suyash\n",
            "Enter the designation of employee : len den manager\n",
            "Enter the salary of employee : 30\n",
            "Enter the name of employee : suryansh\n",
            "Enter the designation of employee : marketing head\n",
            "Enter the salary of employee : 28\n",
            "Enter the name of employee : sumit\n",
            "Enter the designation of employee : Dad of Head\n",
            "Enter the salary of employee : 32\n",
            "Name :  Suyash\n",
            "Designation :  len den manager\n",
            "Salary :  30\n",
            "Name :  suryansh\n",
            "Designation :  marketing head\n",
            "Salary :  28\n",
            "Name :  sumit\n",
            "Designation :  Dad of Head\n",
            "Salary :  32\n"
          ]
        }
      ]
    },
    {
      "cell_type": "markdown",
      "source": [
        "# New Section"
      ],
      "metadata": {
        "id": "ajk9VynxWI8z"
      }
    },
    {
      "cell_type": "markdown",
      "source": [
        "Q2. Write a python program that has a class circle. use a class variable to define the value of constant Pi. Use this class variable to calculate area and circumference of a circle with rectified radius."
      ],
      "metadata": {
        "id": "rAxtYkZIWVTx"
      }
    },
    {
      "cell_type": "code",
      "source": [
        "\"\"\" Write a python program that has a class circle. use a class variable to define the value of constant Pi. Use this class variable to calculate area and circumference of a circle with rectified radius.\"\"\""
      ],
      "metadata": {
        "id": "CMU_rQaTW5QY"
      },
      "execution_count": null,
      "outputs": []
    },
    {
      "cell_type": "code",
      "source": [
        "import math\n",
        "class Circle:\n",
        "  PI=3.14159\n",
        "  def __init__(self,radius):\n",
        "    self.radius=radius\n",
        "  def area(self):\n",
        "    return Circle.PI*self.radius*self.radius\n",
        "  def circumference(self):\n",
        "    return 2*Circle.PI*self.radius\n",
        "\n",
        "circle=Circle(5)\n",
        "print(\"Area of the circle is :\",circle.area())\n",
        "print(\"Circumference of the circle is :\",circle.circumference())\n"
      ],
      "metadata": {
        "id": "aty2J3ViXBSM",
        "colab": {
          "base_uri": "https://localhost:8080/"
        },
        "outputId": "e48df52b-45f1-4b45-abc6-198021fff160"
      },
      "execution_count": null,
      "outputs": [
        {
          "output_type": "stream",
          "name": "stdout",
          "text": [
            "Area of the circle is : 78.53975\n",
            "Circumference of the circle is : 31.4159\n"
          ]
        }
      ]
    },
    {
      "cell_type": "markdown",
      "source": [
        "Q3. An insurence company wants to calculate premium of vehicles. VEHICLES are of two types: Type 1st is two wheeler and Type 2nd is four wheelers.\n",
        "Each vehicles are identified by a vehicle ID, Type, cost and premium amount.\n",
        "Premium amount is 2% of the vehicle cost for two wheeler and 6% of the vehicles cost for four wheelers.\n",
        "Calculate the premium amount and display vehicle detail."
      ],
      "metadata": {
        "id": "evfNQfiKXxrw"
      }
    },
    {
      "cell_type": "code",
      "source": [
        "class Vehicle:\n",
        "  def __init__(self,vehicle_id,type,cost):\n",
        "    self.vehicle_id=vehicle_id\n",
        "    self.type=type\n",
        "    self.cost=cost\n",
        "  def calculate_premium(self):\n",
        "    if self.type==\"two wheeler\":\n",
        "      self.premium=0.02*self.cost\n",
        "    else:\n",
        "      self.premium=0.06*self.cost\n",
        "  def display(self):\n",
        "    print(\"Vehicle ID:-\",self.vehicle_id)\n",
        "    print(\"Vehicle Type:-\",self.type)\n",
        "    print(\"Vehicle Cost:-\",self.cost)\n",
        "    print(\"Premium:-\",self.premium)\n",
        "\n",
        "vehicle_list=[]\n",
        "n=int(input(\"Enter the number of vehicles:-\"))\n",
        "for i in range(n):\n",
        "  vehicle_id=input(\"Enter the vehicle ID:\")\n",
        "  type=input(\"Enter the vehicle type:-\")\n",
        "  cost=int(input(\"Enter the vehicle cost:-\"))\n",
        "  vehicle_list.append(Vehicle(vehicle_id,type,cost))\n",
        "\n",
        "for vehicle in vehicle_list:\n",
        "  vehicle.calculate_premium()\n",
        "  vehicle.display()\n"
      ],
      "metadata": {
        "colab": {
          "base_uri": "https://localhost:8080/"
        },
        "id": "jOygWhWCZKPE",
        "outputId": "448f156c-9871-40de-e28a-6890d8d70496"
      },
      "execution_count": null,
      "outputs": [
        {
          "output_type": "stream",
          "name": "stdout",
          "text": [
            "Enter the number of vehicles:2\n",
            "Enter the vehicle ID:up78gd8244\n",
            "Enter the vehicle type:four wheeler\n",
            "Enter the vehicle cost:987654\n",
            "Enter the vehicle ID:up54ab0191\n",
            "Enter the vehicle type:two wheeler\n",
            "Enter the vehicle cost:90607\n",
            "Vehicle ID: up78gd8244\n",
            "Vehicle Type: four wheeler\n",
            "Vehicle Cost: 987654\n",
            "Premium: 59259.24\n",
            "Vehicle ID: up54ab0191\n",
            "Vehicle Type: two wheeler\n",
            "Vehicle Cost: 90607\n",
            "Premium: 1812.14\n"
          ]
        }
      ]
    }
  ]
}